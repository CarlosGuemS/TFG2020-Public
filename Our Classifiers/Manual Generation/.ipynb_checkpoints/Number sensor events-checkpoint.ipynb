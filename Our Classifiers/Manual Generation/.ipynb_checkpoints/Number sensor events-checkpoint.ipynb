{
 "cells": [
  {
   "cell_type": "code",
   "execution_count": 2,
   "metadata": {},
   "outputs": [],
   "source": [
    "import sys\n",
    "import numpy as np\n",
    "import matplotlib.pyplot as plt\n",
    "sys.path.append('../Datasets')\n",
    "import Kyoto1, Kyoto2, Kyoto3, Aruba"
   ]
  },
  {
   "cell_type": "code",
   "execution_count": 3,
   "metadata": {},
   "outputs": [],
   "source": [
    "def obtain_data(module):\n",
    "    #Making the counts\n",
    "    num_activities = len(module.ACTIVITIY_NAMES)\n",
    "    data = module.obtaining_data()\n",
    "    count = np.zeros(num_activities, dtype=int)\n",
    "    for partition in data:\n",
    "        for event in partition:\n",
    "            count[event[-1]] += 1\n",
    "    total = count.sum()\n",
    "    normal_count = count / sum\n",
    "    #Printing the header of the table\n",
    "    print(\"\\hline\")\n",
    "    print(\"\\multirow{2}{*}{Activities} & Num. of sensor events & Num. of sensor events \\\\\\\\\")\n",
    "    print(\"& used for training & used for testing \\\\\\\\\")\n",
    "    print(\"\\hline\")\n",
    "    formatted_activity_names = [x.replace(\"_\", \" \") for x in module.ACTIVITIY_NAMES]\n",
    "    for x in zip(formatted_activity_names, count, normal_count):\n",
    "        print(\"%s & %d & %0.3f \" % x, end=\"\\\\\\\\\\n\")\n",
    "        print(\"\\hline\")"
   ]
  },
  {
   "cell_type": "code",
   "execution_count": 4,
   "metadata": {},
   "outputs": [
    {
     "ename": "FileNotFoundError",
     "evalue": "[Errno 2] No such file or directory: '..\\\\Datasets\\\\KYOTO1\\\\p01.features'",
     "output_type": "error",
     "traceback": [
      "\u001b[1;31m---------------------------------------------------------------------------\u001b[0m",
      "\u001b[1;31mFileNotFoundError\u001b[0m                         Traceback (most recent call last)",
      "\u001b[1;32m<ipython-input-4-054869c02777>\u001b[0m in \u001b[0;36m<module>\u001b[1;34m\u001b[0m\n\u001b[0;32m      1\u001b[0m \u001b[1;31m#Kyoto1\u001b[0m\u001b[1;33m\u001b[0m\u001b[1;33m\u001b[0m\u001b[1;33m\u001b[0m\u001b[0m\n\u001b[1;32m----> 2\u001b[1;33m \u001b[0mobtain_data\u001b[0m\u001b[1;33m(\u001b[0m\u001b[0mKyoto1\u001b[0m\u001b[1;33m)\u001b[0m\u001b[1;33m\u001b[0m\u001b[1;33m\u001b[0m\u001b[0m\n\u001b[0m",
      "\u001b[1;32m<ipython-input-3-49755508264b>\u001b[0m in \u001b[0;36mobtain_data\u001b[1;34m(module)\u001b[0m\n\u001b[0;32m      2\u001b[0m     \u001b[1;31m#Making the counts\u001b[0m\u001b[1;33m\u001b[0m\u001b[1;33m\u001b[0m\u001b[1;33m\u001b[0m\u001b[0m\n\u001b[0;32m      3\u001b[0m     \u001b[0mnum_activities\u001b[0m \u001b[1;33m=\u001b[0m \u001b[0mlen\u001b[0m\u001b[1;33m(\u001b[0m\u001b[0mmodule\u001b[0m\u001b[1;33m.\u001b[0m\u001b[0mACTIVITIY_NAMES\u001b[0m\u001b[1;33m)\u001b[0m\u001b[1;33m\u001b[0m\u001b[1;33m\u001b[0m\u001b[0m\n\u001b[1;32m----> 4\u001b[1;33m     \u001b[0mdata\u001b[0m \u001b[1;33m=\u001b[0m \u001b[0mmodule\u001b[0m\u001b[1;33m.\u001b[0m\u001b[0mobtaining_data\u001b[0m\u001b[1;33m(\u001b[0m\u001b[1;33m)\u001b[0m\u001b[1;33m\u001b[0m\u001b[1;33m\u001b[0m\u001b[0m\n\u001b[0m\u001b[0;32m      5\u001b[0m     \u001b[0mcount\u001b[0m \u001b[1;33m=\u001b[0m \u001b[0mnp\u001b[0m\u001b[1;33m.\u001b[0m\u001b[0mzeros\u001b[0m\u001b[1;33m(\u001b[0m\u001b[0mnum_activities\u001b[0m\u001b[1;33m,\u001b[0m \u001b[0mdtype\u001b[0m\u001b[1;33m=\u001b[0m\u001b[0mint\u001b[0m\u001b[1;33m)\u001b[0m\u001b[1;33m\u001b[0m\u001b[1;33m\u001b[0m\u001b[0m\n\u001b[0;32m      6\u001b[0m     \u001b[1;32mfor\u001b[0m \u001b[0mpartition\u001b[0m \u001b[1;32min\u001b[0m \u001b[0mdata\u001b[0m\u001b[1;33m:\u001b[0m\u001b[1;33m\u001b[0m\u001b[1;33m\u001b[0m\u001b[0m\n",
      "\u001b[1;32m~\\Documents\\Trabajos actuales\\TFG2020\\Our Classifiers\\Datasets\\Kyoto1.py\u001b[0m in \u001b[0;36mobtaining_data\u001b[1;34m()\u001b[0m\n\u001b[0;32m    153\u001b[0m                                      participant+dp.FILE_EXT_FEATURES)\n\u001b[0;32m    154\u001b[0m         \u001b[0mcomplete_path\u001b[0m \u001b[1;33m=\u001b[0m \u001b[0mos\u001b[0m\u001b[1;33m.\u001b[0m\u001b[0mpath\u001b[0m\u001b[1;33m.\u001b[0m\u001b[0mnormpath\u001b[0m\u001b[1;33m(\u001b[0m\u001b[0mcomplete_path\u001b[0m\u001b[1;33m)\u001b[0m\u001b[1;33m\u001b[0m\u001b[1;33m\u001b[0m\u001b[0m\n\u001b[1;32m--> 155\u001b[1;33m         \u001b[0mtemp_file\u001b[0m \u001b[1;33m=\u001b[0m \u001b[0mopen\u001b[0m\u001b[1;33m(\u001b[0m\u001b[0mcomplete_path\u001b[0m\u001b[1;33m,\u001b[0m \u001b[1;34m'rb'\u001b[0m\u001b[1;33m)\u001b[0m\u001b[1;33m\u001b[0m\u001b[1;33m\u001b[0m\u001b[0m\n\u001b[0m\u001b[0;32m    156\u001b[0m         \u001b[1;32mwith\u001b[0m \u001b[0mopen\u001b[0m\u001b[1;33m(\u001b[0m\u001b[0mcomplete_path\u001b[0m\u001b[1;33m,\u001b[0m \u001b[1;34m'rb'\u001b[0m\u001b[1;33m)\u001b[0m \u001b[1;32mas\u001b[0m \u001b[0mtemp_file\u001b[0m\u001b[1;33m:\u001b[0m\u001b[1;33m\u001b[0m\u001b[1;33m\u001b[0m\u001b[0m\n\u001b[0;32m    157\u001b[0m             \u001b[0mtemp_data\u001b[0m \u001b[1;33m=\u001b[0m \u001b[0mpickle\u001b[0m\u001b[1;33m.\u001b[0m\u001b[0mload\u001b[0m\u001b[1;33m(\u001b[0m\u001b[0mtemp_file\u001b[0m\u001b[1;33m)\u001b[0m\u001b[1;33m\u001b[0m\u001b[1;33m\u001b[0m\u001b[0m\n",
      "\u001b[1;31mFileNotFoundError\u001b[0m: [Errno 2] No such file or directory: '..\\\\Datasets\\\\KYOTO1\\\\p01.features'"
     ]
    }
   ],
   "source": [
    "#Kyoto1\n",
    "obtain_data(Kyoto1)"
   ]
  },
  {
   "cell_type": "code",
   "execution_count": null,
   "metadata": {},
   "outputs": [],
   "source": [
    "#Kyoto2\n",
    "obtain_data(Kyoto2)"
   ]
  },
  {
   "cell_type": "code",
   "execution_count": null,
   "metadata": {},
   "outputs": [],
   "source": [
    "#Kyoto3\n",
    "obtain_data(Kyoto3)"
   ]
  },
  {
   "cell_type": "code",
   "execution_count": null,
   "metadata": {},
   "outputs": [],
   "source": [
    "#Aruba\n",
    "obtain_data(Aruba)"
   ]
  },
  {
   "cell_type": "code",
   "execution_count": null,
   "metadata": {},
   "outputs": [],
   "source": [
    "#Aruba histogram\n",
    "def date_to_number(d):\n",
    "    if d.year == 2010:\n",
    "        return d.month - 11\n",
    "    else:\n",
    "        return d.month + 1\n",
    "\n",
    "training_int_data, testing_int_data = Aruba.obtaining_data()\n",
    "training_count = np.zeros((len(Aruba.ACTIVITIY_NAMES), 8))\n",
    "testing_count = np.zeros((len(Aruba.ACTIVITIY_NAMES), 8))\n",
    "for partition in training_int_data:\n",
    "    for event in partition:\n",
    "        training_count[event[-1], date_to_number(event[0])] += 1\n",
    "for partition in testing_int_data:\n",
    "    for event in partition:\n",
    "        testing_count[event[-1], date_to_number(event[0])] += 1\n",
    "\n",
    "print(training_count)\n",
    "\n",
    "for i, row in enumerate(training_count):\n",
    "    plt.figure()\n",
    "    plt.bar(np.arange(8), row)\n",
    "    plt.bar(np.arange(8), testing_count[i])\n",
    "    plt.title(Aruba.ACTIVITIY_NAMES[i])\n",
    "    plt.show()"
   ]
  },
  {
   "cell_type": "code",
   "execution_count": null,
   "metadata": {},
   "outputs": [],
   "source": []
  }
 ],
 "metadata": {
  "kernelspec": {
   "display_name": "Python 3",
   "language": "python",
   "name": "python3"
  },
  "language_info": {
   "codemirror_mode": {
    "name": "ipython",
    "version": 3
   },
   "file_extension": ".py",
   "mimetype": "text/x-python",
   "name": "python",
   "nbconvert_exporter": "python",
   "pygments_lexer": "ipython3",
   "version": "3.7.4"
  }
 },
 "nbformat": 4,
 "nbformat_minor": 4
}
