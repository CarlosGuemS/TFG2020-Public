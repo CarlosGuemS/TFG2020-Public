{
 "cells": [
  {
   "cell_type": "code",
   "execution_count": 1,
   "metadata": {},
   "outputs": [],
   "source": [
    "#Imports\n",
    "import pycrfsuite as crf\n",
    "import sys\n",
    "sys.path.append('../Datasets')\n",
    "import Kyoto3 as dataset\n",
    "sys.path.append('../Libraries')\n",
    "import feature_extraction as fe\n",
    "import evaluation as ev\n",
    "import numpy as np"
   ]
  },
  {
   "cell_type": "code",
   "execution_count": 2,
   "metadata": {},
   "outputs": [],
   "source": [
    "training_data, test_data = dataset.obtaining_data_continuos()\n",
    "chained_tr_data = fe.extract_sensor_chains(training_data)\n",
    "chained_te_data = fe.extract_sensor_chains(test_data)"
   ]
  },
  {
   "cell_type": "code",
   "execution_count": 3,
   "metadata": {},
   "outputs": [
    {
     "name": "stdout",
     "output_type": "stream",
     "text": [
      "[[datetime.datetime(2008, 7, 29, 13, 5, 10, 895529), 6, 1.0, 0], [datetime.datetime(2008, 7, 29, 13, 5, 13, 412741), 7, 1.0, 0], [datetime.datetime(2008, 7, 29, 13, 5, 13, 412741), 8, 1.0, 0], [datetime.datetime(2008, 7, 29, 13, 5, 16, 438795), 6, 0.0, 0], [datetime.datetime(2008, 7, 29, 13, 5, 16, 438795), 7, 0.0, 0]]\n"
     ]
    }
   ],
   "source": [
    "print(training_data[0][:5])\n",
    "#print(chained_tr_data[:5])"
   ]
  },
  {
   "cell_type": "code",
   "execution_count": 4,
   "metadata": {},
   "outputs": [],
   "source": [
    "trainer = crf.Trainer(verbose=False)\n",
    "for tr, te in chained_tr_data:\n",
    "    #print(tr, te)\n",
    "    trainer.append(tr, te) "
   ]
  },
  {
   "cell_type": "code",
   "execution_count": 5,
   "metadata": {},
   "outputs": [],
   "source": [
    "trainer.set_params({\n",
    "    'c1': 1.0,   # coefficient for L1 penalty\n",
    "    'c2': 1e-3,  # coefficient for L2 penalty\n",
    "    'max_iterations': 50,  # stop earlier\n",
    "\n",
    "    # include transitions that are possible, but not observed\n",
    "    'feature.possible_transitions': True\n",
    "})\n",
    "trainer.train('conll2002-esp.crfsuite')"
   ]
  },
  {
   "cell_type": "code",
   "execution_count": 6,
   "metadata": {},
   "outputs": [
    {
     "data": {
      "text/plain": [
       "<contextlib.closing at 0x1ff8af3fdc8>"
      ]
     },
     "execution_count": 6,
     "metadata": {},
     "output_type": "execute_result"
    }
   ],
   "source": [
    "tagger = crf.Tagger()\n",
    "tagger.open('conll2002-esp.crfsuite')"
   ]
  },
  {
   "cell_type": "code",
   "execution_count": 7,
   "metadata": {},
   "outputs": [
    {
     "name": "stdout",
     "output_type": "stream",
     "text": [
      "427\n",
      "Predicted: 5 5 5 5 5 5 5 5 5 5 5 5 5 5 5 5 5 5 5 5 5 5 5 5 5 5 5 0 0 0 0 0 0 0 0 0 0 0 0 0 0 0 0 0 0 0 0 0 0 0 0 0 0 0 0 0 0 0 0 0 0 0 0 0 0 0 0 2 2 2 2 2 2 2 2 2 2 2 2 2 2 2 2 2 2 2 2 2 2 2 2 2 2 2 2 2 2 2 2 2 2 2 2 2 2 2 2 2 2 2 2 2 2 2 2 2 2 2 2 2 2 2 2 2 2 2 2 2 2 5 5 5 5 5 5 5 5 5 5 5 5 5 5 5 5 6 6 6 6 6 6 6 6 6 6 6 6 6 6 6 6 6 6 6 6 6 6 6 6 6 6 6 6 6 6 6 6 6 6 6 6 6 6 6 6 6 6 6 6 6 6 6 6 6 6 6 6 6 6 6 6 6 6 6 6 6 6 6 6 1 1 1 1 1 1 1 1 1 1 1 1 1 1 1 1 1 1 1 1 1 1 1 1 1 1 1 1 7 7 7 7 7 7 7 7 7 7 7 7 7 7 7 7 7 7 7 7 7 7 7 7 7 7 7 7 7 7 7 2 2 2 2 2 2 2 2 2 2 2 2 2 2 2 2 2 2 2 2 2 2 2 2 2 2 2 2 2 2 2 2 2 2 2 2 2 2 2 2 2 2 2 2 4 4 4 4 4 4 4 4 4 4 4 4 4 4 4 4 4 4 4 4 4 4 4 4 4 4 4 4 4 4 4 4 1 1 1 1 1 1 1 1 1 1 1 1 1 1 1 1 1 1 1 1 1 1 1 1 1 1 1 1 1 1 1 1 1 1 1 1 1 1 1 1 1 1 1 1 1 1 1 1 1 1 1 1 1 1 1 1 1 1 1 1 1 1 1 1 1 1 1 1 1 1 1 1 1 1 1 1 1 1 1 1 1 1 1\n",
      "Correct:   5 5 5 5 5 5 5 5 5 5 5 5 5 5 5 5 5 5 5 5 5 5 5 5 5 5 5 0 0 0 0 0 0 0 0 0 0 0 0 0 0 0 0 0 0 0 0 0 0 0 0 0 0 0 0 0 0 0 0 0 0 0 0 0 0 0 2 2 2 2 2 2 2 2 2 2 2 2 2 2 2 2 2 2 2 2 2 2 2 2 2 2 2 2 2 2 2 2 2 2 2 2 2 2 2 2 2 2 2 2 2 2 2 2 2 2 2 2 2 2 2 2 2 2 2 2 2 2 5 5 5 5 5 5 5 5 5 5 5 5 5 5 5 5 5 5 5 5 5 5 5 5 5 5 5 5 5 5 5 5 5 6 6 6 6 6 6 6 6 6 6 6 6 6 6 6 6 6 6 6 6 6 6 6 6 6 6 6 6 6 6 6 6 6 6 6 6 6 6 6 6 6 6 1 1 1 1 1 1 1 1 1 1 1 1 1 1 1 1 1 1 1 1 1 1 1 1 1 1 1 1 1 1 1 1 1 1 1 7 7 7 7 7 7 7 7 7 7 7 7 7 7 7 7 7 7 7 7 7 7 7 7 7 7 7 7 7 7 7 7 7 1 1 1 1 1 1 1 1 1 1 1 1 1 1 1 1 1 1 1 1 1 1 1 1 1 7 7 7 7 7 7 7 7 7 7 7 7 7 7 7 4 4 4 4 4 4 4 4 4 4 4 4 4 4 4 4 4 4 4 4 4 4 4 4 4 4 4 4 1 1 1 1 1 1 1 1 1 1 1 1 1 1 1 1 1 1 1 1 1 1 1 1 1 1 1 1 1 1 3 3 3 3 3 3 3 3 3 3 3 3 3 3 3 3 3 3 3 3 3 3 3 3 3 3 3 3 3 3 3 3 3 3 3 3 3 3 3 3 3 3 3 3 3 3 3 3 3 3 3 3 3 3 3 3 3 3\n"
     ]
    }
   ],
   "source": [
    "values, classes = chained_te_data.__next__()\n",
    "res = tagger.tag(values)\n",
    "print(len(res))\n",
    "print(\"Predicted:\", ' '.join(res))\n",
    "print(\"Correct:  \", ' '.join(classes))"
   ]
  },
  {
   "cell_type": "code",
   "execution_count": 8,
   "metadata": {},
   "outputs": [
    {
     "name": "stdout",
     "output_type": "stream",
     "text": [
      "[5 5 5 5 5 5 5 5 5 5 5 5 5 5 5 5 5 5 5 5 5 5 5 5 5 5 5 0 0 0 0 0 0 0 0 0 0\n",
      " 0 0 0 0 0 0 0 0 0 0 0 0 0 0 0 0 0 0 0 0 0 0 0 0 0 0 0 0 0 0 2 2 2 2 2 2 2\n",
      " 2 2 2 2 2 2 2 2 2 2 2 2 2 2 2 2 2 2 2 2 2 2 2 2 2 2 2 2 2 2 2 2 2 2 2 2 2\n",
      " 2 2 2 2 2 2 2 2 2 2 2 2 2 2 2 2 2 2 5 5 5 5 5 5 5 5 5 5 5 5 5 5 5 5 6 6 6\n",
      " 6 6 6 6 6 6 6 6 6 6 6 6 6 6 6 6 6 6 6 6 6 6 6 6 6 6 6 6 6 6 6 6 6 6 6 6 6\n",
      " 6 6 6 6 6 6 6 6 6 6 6 6 6 6 6 6 6 6 6 6 6 6 6 6 1 1 1 1 1 1 1 1 1 1 1 1 1\n",
      " 1 1 1 1 1 1 1 1 1 1 1 1 1 1 1 7 7 7 7 7 7 7 7 7 7 7 7 7 7 7 7 7 7 7 7 7 7\n",
      " 7 7 7 7 7 7 7 7 7 2 2 2 2 2 2 2 2 2 2 2 2 2 2 2 2 2 2 2 2 2 2 2 2 2 2 2 2\n",
      " 2 2 2 2 2 2 2 2 2 2 2 2 2 2 2 2 4 4 4 4 4 4 4 4 4 4 4 4 4 4 4 4 4 4 4 4 4\n",
      " 4 4 4 4 4 4 4 4 4 4 4 1 1 1 1 1 1 1 1 1 1 1 1 1 1 1 1 1 1 1 1 1 1 1 1 1 1\n",
      " 1 1 1 1 1 1 1 1 1 1 1 1 1 1 1 1 1 1 1 1 1 1 1 1 1 1 1 1 1 1 1 1 1 1 1 1 1\n",
      " 1 1 1 1 1 1 1 1 1 1 1 1 1 1 1 1 1 1 1 1]\n",
      "[5 5 5 5 5 5 5 5 5 5 5 5 5 5 5 5 5 5 5 5 5 5 5 5 5 5 5 0 0 0 0 0 0 0 0 0 0\n",
      " 0 0 0 0 0 0 0 0 0 0 0 0 0 0 0 0 0 0 0 0 0 0 0 0 0 0 0 0 0 2 2 2 2 2 2 2 2\n",
      " 2 2 2 2 2 2 2 2 2 2 2 2 2 2 2 2 2 2 2 2 2 2 2 2 2 2 2 2 2 2 2 2 2 2 2 2 2\n",
      " 2 2 2 2 2 2 2 2 2 2 2 2 2 2 2 2 2 5 5 5 5 5 5 5 5 5 5 5 5 5 5 5 5 5 5 5 5\n",
      " 5 5 5 5 5 5 5 5 5 5 5 5 5 6 6 6 6 6 6 6 6 6 6 6 6 6 6 6 6 6 6 6 6 6 6 6 6\n",
      " 6 6 6 6 6 6 6 6 6 6 6 6 6 6 6 6 6 6 1 1 1 1 1 1 1 1 1 1 1 1 1 1 1 1 1 1 1\n",
      " 1 1 1 1 1 1 1 1 1 1 1 1 1 1 1 1 7 7 7 7 7 7 7 7 7 7 7 7 7 7 7 7 7 7 7 7 7\n",
      " 7 7 7 7 7 7 7 7 7 7 7 7 1 1 1 1 1 1 1 1 1 1 1 1 1 1 1 1 1 1 1 1 1 1 1 1 1\n",
      " 7 7 7 7 7 7 7 7 7 7 7 7 7 7 7 4 4 4 4 4 4 4 4 4 4 4 4 4 4 4 4 4 4 4 4 4 4\n",
      " 4 4 4 4 4 4 1 1 1 1 1 1 1 1 1 1 1 1 1 1 1 1 1 1 1 1 1 1 1 1 1 1 1 1 1 1 3\n",
      " 3 3 3 3 3 3 3 3 3 3 3 3 3 3 3 3 3 3 3 3 3 3 3 3 3 3 3 3 3 3 3 3 3 3 3 3 3\n",
      " 3 3 3 3 3 3 3 3 3 3 3 3 3 3 3 3 3 3 3 3]\n"
     ]
    }
   ],
   "source": [
    "prediction_classes = np.array(list(map(int, res)))\n",
    "testing_class = np.array(list(map(int, classes)))\n",
    "print(prediction_classes)\n",
    "print(testing_class)"
   ]
  },
  {
   "cell_type": "code",
   "execution_count": 9,
   "metadata": {},
   "outputs": [
    {
     "name": "stdout",
     "output_type": "stream",
     "text": [
      "0.6908665105386417\n",
      "[0.73483903 1.         0.58888889 0.98387097 0.         0.96428571\n",
      " 0.71666667 1.         0.625     ]\n",
      "[0.68696139 0.975      0.47747748 0.5754717  0.         0.84375\n",
      " 1.         0.65625    0.96774194]\n",
      "0.6909741737259265\n"
     ]
    }
   ],
   "source": [
    "confusion_matrix = ev.obtain_confusion_matrix(dataset.NUM_ACTIVITIES,\n",
    "                                                              testing_class,\n",
    "                                                              prediction_classes)\n",
    "print(ev.obtain_accuracy(confusion_matrix))\n",
    "prec = ev.obtain_precision(confusion_matrix)\n",
    "print(prec)\n",
    "rec = ev.obtain_recall(confusion_matrix)\n",
    "print(rec)\n",
    "fscore = ev.obtain_fscore(prec[1:], rec[1:])\n",
    "print(np.mean(fscore))"
   ]
  },
  {
   "cell_type": "code",
   "execution_count": 10,
   "metadata": {},
   "outputs": [
    {
     "name": "stdout",
     "output_type": "stream",
     "text": [
      "Top likely transitions:\n",
      "3      -> 3       4.232362\n",
      "2      -> 2       4.228416\n",
      "7      -> 7       4.213112\n",
      "5      -> 5       4.201921\n",
      "6      -> 6       4.176386\n",
      "0      -> 0       4.139935\n",
      "1      -> 1       4.123891\n",
      "4      -> 4       3.930046\n",
      "5      -> 0       0.456422\n",
      "1      -> 4       0.268388\n",
      "5      -> 1       0.212863\n",
      "4      -> 1       0.128090\n",
      "0      -> 5       -0.175111\n",
      "5      -> 7       -0.185396\n",
      "0      -> 3       -0.225576\n",
      "3      -> 6       -0.231085\n",
      "1      -> 5       -0.233237\n",
      "3      -> 5       -0.257108\n",
      "4      -> 7       -0.258352\n",
      "2      -> 3       -0.263010\n",
      "2      -> 7       -0.285311\n",
      "7      -> 5       -0.347620\n",
      "4      -> 3       -0.415429\n",
      "3      -> 7       -0.424574\n",
      "7      -> 6       -0.448418\n",
      "0      -> 1       -0.451866\n",
      "4      -> 5       -0.459700\n",
      "7      -> 1       -0.460251\n",
      "7      -> 3       -0.468952\n",
      "1      -> 3       -0.475126\n",
      "0      -> 4       -0.482106\n",
      "2      -> 6       -0.500323\n",
      "6      -> 3       -0.505486\n",
      "3      -> 4       -0.508085\n",
      "5      -> 4       -0.517601\n",
      "3      -> 0       -0.537817\n",
      "7      -> 2       -0.542327\n",
      "7      -> 4       -0.546820\n",
      "3      -> 2       -0.554330\n",
      "4      -> 6       -0.577746\n",
      "4      -> 0       -0.587516\n",
      "0      -> 7       -0.595196\n",
      "1      -> 6       -0.615217\n",
      "5      -> 2       -0.651442\n",
      "1      -> 0       -0.657985\n",
      "6      -> 0       -0.674342\n",
      "6      -> 1       -0.723987\n",
      "1      -> 2       -0.755808\n",
      "2      -> 1       -0.760900\n",
      "2      -> 5       -0.771644\n",
      "1      -> 7       -0.787599\n",
      "6      -> 5       -0.790831\n",
      "6      -> 2       -0.798113\n",
      "6      -> 4       -0.805417\n",
      "5      -> 3       -0.843682\n",
      "0      -> 2       -0.883498\n",
      "6      -> 7       -1.061710\n",
      "0      -> 6       -1.075721\n",
      "5      -> 6       -1.098355\n",
      "\n",
      "Top unlikely transitions:\n",
      "1      -> 0       -0.657985\n",
      "6      -> 0       -0.674342\n",
      "6      -> 1       -0.723987\n",
      "1      -> 2       -0.755808\n",
      "2      -> 1       -0.760900\n",
      "2      -> 5       -0.771644\n",
      "1      -> 7       -0.787599\n",
      "6      -> 5       -0.790831\n",
      "6      -> 2       -0.798113\n",
      "6      -> 4       -0.805417\n",
      "5      -> 3       -0.843682\n",
      "0      -> 2       -0.883498\n",
      "6      -> 7       -1.061710\n",
      "0      -> 6       -1.075721\n",
      "5      -> 6       -1.098355\n"
     ]
    }
   ],
   "source": [
    "from collections import Counter\n",
    "info = tagger.info()\n",
    "\n",
    "def print_transitions(trans_features):\n",
    "    for (label_from, label_to), weight in trans_features:\n",
    "        print(\"%-6s -> %-7s %0.6f\" % (label_from, label_to, weight))\n",
    "\n",
    "print(\"Top likely transitions:\")\n",
    "print_transitions(Counter(info.transitions).most_common())\n",
    "\n",
    "print(\"\\nTop unlikely transitions:\")\n",
    "print_transitions(Counter(info.transitions).most_common()[-15:])"
   ]
  },
  {
   "cell_type": "code",
   "execution_count": null,
   "metadata": {},
   "outputs": [],
   "source": []
  }
 ],
 "metadata": {
  "kernelspec": {
   "display_name": "Python 3",
   "language": "python",
   "name": "python3"
  },
  "language_info": {
   "codemirror_mode": {
    "name": "ipython",
    "version": 3
   },
   "file_extension": ".py",
   "mimetype": "text/x-python",
   "name": "python",
   "nbconvert_exporter": "python",
   "pygments_lexer": "ipython3",
   "version": "3.7.4"
  }
 },
 "nbformat": 4,
 "nbformat_minor": 4
}
