{
 "cells": [
  {
   "cell_type": "code",
   "execution_count": 1,
   "metadata": {},
   "outputs": [],
   "source": [
    "import matplotlib.pyplot as plt\n",
    "import numpy as np"
   ]
  },
  {
   "cell_type": "markdown",
   "metadata": {},
   "source": [
    "## Code to generate the graphs"
   ]
  },
  {
   "cell_type": "code",
   "execution_count": 3,
   "metadata": {},
   "outputs": [],
   "source": [
    "# Method labels\n",
    "labels = [\"Base\", \"Base + PWA\", \"Base + TD\", \"Base + EMI\", \"Base + PWA\\n+ TD\", \"Base + PWA\\n+ EMI\", \"Base + TD\\n+ EMI\", \"Base + PWA\\n+ TD + EMI\"]\n",
    "x = np.arange(len(labels))"
   ]
  },
  {
   "cell_type": "code",
   "execution_count": 21,
   "metadata": {},
   "outputs": [
    {
     "data": {
      "image/png": "[encoded data removed]",
      "text/plain": [
       "<Figure size 576x432 with 1 Axes>"
      ]
     },
     "metadata": {
      "needs_background": "light"
     },
     "output_type": "display_data"
    }
   ],
   "source": [
    "width = 0.15  # the width of the bars\n",
    "sep_constant = 0.02\n",
    "\n",
    "fig, ax = plt.subplots(figsize = (12, 8))\n",
    "\n",
    "\n",
    "#Data\n",
    "rectsOA = ax.bar(x - 3*width/2-1.5*sep_constant, data_OA, width, label='OA')\n",
    "rectsOAE = ax.bar(x - width/2-0.5*sep_constant, data_OAE, width, label='OA-E')\n",
    "rectsIWA = ax.bar(x + width/2+0.5*sep_constant, data_IWA, width, label='IWA')\n",
    "rectsDLR = ax.bar(x + 3*width/2+1.5*sep_constant, data_DLR, width, label='DLR')\n",
    "\n",
    "#The graph itself\n",
    "ax.set_ylabel('F-Score (%)')\n",
    "ax.set_xlabel('Set of features')\n",
    "#ax.set_title(graph_title)\n",
    "ax.set_xticks(x)\n",
    "ax.set_xticklabels(labels)\n",
    "ax.legend()\n",
    "legend = ax.get_legend()\n",
    "legend.set_title(\"Datasets\")\n",
    "\n",
    "fig.tight_layout()\n",
    "\n",
    "plt.savefig(file_title, format='pdf')\n",
    "plt.show()"
   ]
  },
  {
   "cell_type": "markdown",
   "metadata": {},
   "source": [
    "## Naive Bayes\n",
    "\n",
    "Graph for Fscore"
   ]
  },
  {
   "cell_type": "code",
   "execution_count": 19,
   "metadata": {},
   "outputs": [],
   "source": [
    "data_OA = [0.7288, 0.6575, 0.6182, 0.5457, 0.4663, 0.4171, 0.5448, 0.2732]\n",
    "data_OAE = [0.7713, 0.7066, 0.7207, 0.5709, 0.674, 0.455, 0.3511, 0.1766]\n",
    "data_IWA = [0.5112, 0.4935, 0.5217, 0.3328, 0.5149, 0.299, 0.1675, 0.1302]\n",
    "data_DLR = [0.5047, 0.5037, 0.1949, 0.199, 0.1939, 0.1993, 0.1165, 0.1168]\n",
    "file_title = \"Naive Bayes Fscore.pdf\"\n",
    "graph_title = \"F-Score obtained by a Naive Bayes classifier by dataset and set of features\""
   ]
  },
  {
   "cell_type": "code",
   "execution_count": null,
   "metadata": {},
   "outputs": [],
   "source": []
  }
 ],
 "metadata": {
  "kernelspec": {
   "display_name": "Python 3",
   "language": "python",
   "name": "python3"
  },
  "language_info": {
   "codemirror_mode": {
    "name": "ipython",
    "version": 3
   },
   "file_extension": ".py",
   "mimetype": "text/x-python",
   "name": "python",
   "nbconvert_exporter": "python",
   "pygments_lexer": "ipython3",
   "version": "3.7.4"
  }
 },
 "nbformat": 4,
 "nbformat_minor": 4
}
